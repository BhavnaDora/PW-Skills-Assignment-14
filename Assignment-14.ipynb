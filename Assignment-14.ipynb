{
 "cells": [
  {
   "cell_type": "markdown",
   "id": "4d699281-4718-45b9-a5fc-0022d22f184a",
   "metadata": {},
   "source": [
    "#### (1)- \n",
    "##### Multiprocessing is the ability of the system to run more than one processes in parallel. Applications in a multiprocessing system are broken down into smaller routines that run independently. Each process is allocated to the processor by the os.\n",
    "##### Multiprocessing is useful because if we have a computer with single processor and assign it many processes, then it will have to interrupt the previous task and move to another to keep all the processes going. So, multiprocessing helps to perform several tasks at the same time without interruption. Multiple processes run easily thereby reducing the latency of the program."
   ]
  },
  {
   "cell_type": "markdown",
   "id": "6bce07b4-4d7d-4a1a-ac3d-1e591fe02a30",
   "metadata": {},
   "source": [
    "#### (2)-\n",
    "##### In multithreading, many threads are created of a single process to increase the computing power. Where as in multiprocessing, several processors are used for increasing the computing power.\n",
    "##### In multithreading many threads of a single process are exceuted simultaneously whereas in multiprocessing many processes are exceuted simultneously\n",
    "##### In multithreading a common address space is shared by all the threads whereas in multiprocessing, every process owns a separate address space.\n",
    "##### In multithreading process creation is economical but in multiprocessing process creation is time consuming."
   ]
  },
  {
   "cell_type": "markdown",
   "id": "f3641629-5daf-4aaf-a505-b8c30c8ee16f",
   "metadata": {},
   "source": [
    "#### (3)-"
   ]
  },
  {
   "cell_type": "code",
   "execution_count": 2,
   "id": "be6a45b5-8a9d-4776-8ab7-e161863b4c8e",
   "metadata": {},
   "outputs": [
    {
     "name": "stdout",
     "output_type": "stream",
     "text": [
      "square of the number 10 is 100\n"
     ]
    }
   ],
   "source": [
    "import multiprocessing\n",
    "\n",
    "def square(num):\n",
    "    print(\"square of the number %d is %d\" %(num, num**2))\n",
    "\n",
    "if __name__== \"__main__\":\n",
    "    m= multiprocessing.Process(target= square, args= (10,))\n",
    "    m.start()\n",
    "    m.join()"
   ]
  },
  {
   "cell_type": "code",
   "execution_count": 6,
   "id": "03123025-e63e-4a2f-92fc-bd5d8bd0d0d9",
   "metadata": {},
   "outputs": [
    {
     "name": "stdout",
     "output_type": "stream",
     "text": [
      "the name of the continent is: America the name of the continent is:\n",
      "Asia\n",
      "the name of the continent is: Europe\n"
     ]
    }
   ],
   "source": [
    "import multiprocessing\n",
    "\n",
    "def continent(name):\n",
    "    print(\"the name of the continent is:\", name)\n",
    "    \n",
    "if __name__==\"__main__\":\n",
    "    cont_name= [\"America\", \"Asia\", \"Europe\"]\n",
    "    lst=[]\n",
    "    for i in cont_name:\n",
    "        m= multiprocessing.Process(target= continent, args= (i,))\n",
    "        lst.append(m)\n",
    "        m.start()\n",
    "    for m in lst:\n",
    "        m.join()\n"
   ]
  },
  {
   "cell_type": "markdown",
   "id": "4698bca6-1a2c-4961-95a2-a059feb31688",
   "metadata": {},
   "source": [
    "#### (4)-\n",
    "##### Multiprocessing pool can be used for parallel execution of a function across multiple input values, distributing the input data across many processes. Pool offers a convenient means for parallelizing the execution of program.\n",
    "##### Example)"
   ]
  },
  {
   "cell_type": "code",
   "execution_count": 7,
   "id": "59a42a5d-2a48-49a2-adde-827499dd6a6f",
   "metadata": {},
   "outputs": [
    {
     "name": "stdout",
     "output_type": "stream",
     "text": [
      "[1, 4, 9, 16, 25]\n"
     ]
    }
   ],
   "source": [
    "import multiprocessing\n",
    "\n",
    "def square(num):\n",
    "    return num**2\n",
    "\n",
    "if __name__==\"__main__\":\n",
    "    with multiprocessing.Pool(processes=5) as p:\n",
    "        print(p.map(square, [1,2,3,4,5]))"
   ]
  },
  {
   "cell_type": "markdown",
   "id": "69f20530-6de3-432e-a950-2e44a0485c85",
   "metadata": {},
   "source": [
    "#### (5)-\n",
    "##### Pool is the instrument to create or manage worker processes. multiprocessing.Pool() provides a pool of generic worker processes. There are 4 main stages- Create, Submit, Wait, Shutdown.\n",
    "##### so, to create the pool of worker processes we specify argument processes(i.e. no. of worker processes to be created) inside the multiprocessing.Pool. ex) multiprocessing.Pool( processes=4 ) - this creates a pool of 4 worker processes. Then we call the function which gets executed in these worker processes parallely and then the results are accumulated and given as output"
   ]
  },
  {
   "cell_type": "markdown",
   "id": "079f516c-10ef-48a1-8531-37d357cd5366",
   "metadata": {},
   "source": [
    "#### (6)-"
   ]
  },
  {
   "cell_type": "code",
   "execution_count": null,
   "id": "a06fe2d1-f3af-42d6-807f-b917f63128ca",
   "metadata": {},
   "outputs": [],
   "source": [
    "import multiprocessing\n",
    "\n",
    "def cubes(num):\n",
    "    return n**3\n",
    "\n",
    "if __name__==\"__main__\":\n",
    "    with multiprocessing.Pool( processes= 4) as pool:\n",
    "        "
   ]
  }
 ],
 "metadata": {
  "kernelspec": {
   "display_name": "Python 3 (ipykernel)",
   "language": "python",
   "name": "python3"
  },
  "language_info": {
   "codemirror_mode": {
    "name": "ipython",
    "version": 3
   },
   "file_extension": ".py",
   "mimetype": "text/x-python",
   "name": "python",
   "nbconvert_exporter": "python",
   "pygments_lexer": "ipython3",
   "version": "3.10.8"
  }
 },
 "nbformat": 4,
 "nbformat_minor": 5
}
